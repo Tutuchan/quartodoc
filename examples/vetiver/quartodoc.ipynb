{
 "cells": [
  {
   "cell_type": "code",
   "execution_count": 3,
   "metadata": {},
   "outputs": [],
   "source": [
    "from griffe.loader import GriffeLoader\n",
    "from griffe.docstrings.parsers import Parser\n",
    "\n",
    "griffe = GriffeLoader(docstring_parser = Parser(\"numpy\"))\n",
    "mod = griffe.load_module(\"vetiver\") # no editable install\n",
    "\n",
    "#f_obj = mod._modules_collection[\"vetiver.load_pkgs\"]\n"
   ]
  },
  {
   "cell_type": "code",
   "execution_count": 10,
   "metadata": {},
   "outputs": [
    {
     "data": {
      "text/plain": [
       "<Function('load_pkgs', 6, 33)>"
      ]
     },
     "execution_count": 10,
     "metadata": {},
     "output_type": "execute_result"
    }
   ],
   "source": [
    "mod._modules_collection[\"vetiver.attach_pkgs.load_pkgs\"] # full path"
   ]
  },
  {
   "cell_type": "code",
   "execution_count": 1,
   "metadata": {},
   "outputs": [
    {
     "name": "stdout",
     "output_type": "stream",
     "text": [
      "# load_pkgs\n",
      "\n",
      "`load_pkgs(model: VetiverModel = None, packages: list = None, path='')`\n",
      "\n",
      "Load packages necessary for predictions\n",
      "\n",
      "Args\n",
      "----\n",
      "    model: VetiverModel\n",
      "        VetiverModel to extract packages from\n",
      "    packages: list\n",
      "        List of extra packages to include\n",
      "    path: str\n",
      "        Where to save output file\n"
     ]
    }
   ],
   "source": [
    "from quartodoc import get_function, MdRenderer\n",
    "\n",
    "# get function object ---\n",
    "f_obj = get_function(\"vetiver.attach_pkgs\", \"load_pkgs\") # not attach.laod\n",
    "\n",
    "\n",
    "# render ---\n",
    "renderer = MdRenderer(header_level = 1)\n",
    "print(\n",
    "    renderer.to_md(f_obj)\n",
    ")"
   ]
  },
  {
   "cell_type": "code",
   "execution_count": 4,
   "metadata": {},
   "outputs": [
    {
     "name": "stdout",
     "output_type": "stream",
     "text": [
      "# VetiverAPI\n",
      "\n",
      "`VetiverAPI(self, model: VetiverModel, check_ptype: bool = True, app_factory=FastAPI)`\n",
      "\n",
      "Create model aware API\n",
      "\n",
      "## Parameters\n",
      "\n",
      "| Name          | Type         | Description                                    | Default   |\n",
      "|---------------|--------------|------------------------------------------------|-----------|\n",
      "| `model`       | VetiverModel | Model to be deployed in API                    | required  |\n",
      "| `check_ptype` | bool         | Determine if data prototype should be enforced | `True`    |\n",
      "| `app_factory` |              | Type of API to be deployed                     | `FastAPI` |\n",
      "\n",
      "Example\n",
      "-------\n",
      ">>> import vetiver\n",
      ">>> X, y = vetiver.get_mock_data()\n",
      ">>> model = vetiver.get_mock_model().fit(X, y)\n",
      ">>> v = vetiver.VetiverModel(model = model, model_name = \"my_model\", ptype_data = X)\n",
      ">>> v_api = vetiver.VetiverAPI(model = v, check_ptype = True)\n"
     ]
    }
   ],
   "source": [
    "c_obj = mod._modules_collection[\"vetiver.server.VetiverAPI\"]\n",
    "\n",
    "print(\n",
    "    renderer.to_md(c_obj)\n",
    ")"
   ]
  },
  {
   "cell_type": "code",
   "execution_count": 19,
   "metadata": {},
   "outputs": [
    {
     "data": {
      "text/plain": [
       "'# vetiver_post\\n\\n`vetiver_post(self, endpoint_fx: Callable, endpoint_name: str = \\'custom_endpoint\\')`\\n\\nCreate new POST endpoint that is aware of model input data\\n\\n## Parameters\\n\\n| Name            | Type            | Description                           | Default             |\\n|-----------------|-----------------|---------------------------------------|---------------------|\\n| `endpoint_fx`   | typing.Callable | Custom function to be run at endpoint | required            |\\n| `endpoint_name` | str             | Name of endpoint                      | `\\'custom_endpoint\\'` |\\n\\nExample\\n-------\\n>>> import vetiver\\n>>> X, y = vetiver.get_mock_data()\\n>>> model = vetiver.get_mock_model().fit(X, y)\\n>>> v = vetiver.VetiverModel(model = model, model_name = \"model\", ptype_data = X)\\n>>> v_api = vetiver.VetiverAPI(model = v, check_ptype = True)\\n>>> def sum_values(x):\\n...     return x.sum()\\n>>> v_api.vetiver_post(sum_values, \"sums\")'"
      ]
     },
     "execution_count": 19,
     "metadata": {},
     "output_type": "execute_result"
    }
   ],
   "source": [
    "renderer.to_md(c_obj.members[\"vetiver_post\"]) # no -> none"
   ]
  },
  {
   "cell_type": "code",
   "execution_count": null,
   "metadata": {},
   "outputs": [],
   "source": []
  }
 ],
 "metadata": {
  "kernelspec": {
   "display_name": "Python 3.9.11 64-bit ('pydemo')",
   "language": "python",
   "name": "python3"
  },
  "language_info": {
   "codemirror_mode": {
    "name": "ipython",
    "version": 3
   },
   "file_extension": ".py",
   "mimetype": "text/x-python",
   "name": "python",
   "nbconvert_exporter": "python",
   "pygments_lexer": "ipython3",
   "version": "3.9.11"
  },
  "orig_nbformat": 4,
  "vscode": {
   "interpreter": {
    "hash": "974018313955b4988b16ea215671657307c8736770f13695d4ded4c5899ccb5a"
   }
  }
 },
 "nbformat": 4,
 "nbformat_minor": 2
}
